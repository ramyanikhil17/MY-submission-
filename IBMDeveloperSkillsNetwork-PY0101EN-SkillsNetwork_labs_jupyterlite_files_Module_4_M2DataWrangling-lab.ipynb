{
  "metadata": {
    "kernelspec": {
      "name": "python",
      "display_name": "Python (Pyodide)",
      "language": "python"
    },
    "language_info": {
      "codemirror_mode": {
        "name": "python",
        "version": 3
      },
      "file_extension": ".py",
      "mimetype": "text/x-python",
      "name": "python",
      "nbconvert_exporter": "python",
      "pygments_lexer": "ipython3",
      "version": "3.8"
    }
  },
  "nbformat_minor": 4,
  "nbformat": 4,
  "cells": [
    {
      "cell_type": "markdown",
      "source": "<p style=\"text-align:center\">\n    <a href=\"https://skills.network/?utm_medium=Exinfluencer&utm_source=Exinfluencer&utm_content=000026UJ&utm_term=10006555&utm_id=NA-SkillsNetwork-Channel-SkillsNetworkCoursesIBMDA0321ENSkillsNetwork928-2022-01-01\" target=\"_blank\">\n    <img src=\"https://cf-courses-data.s3.us.cloud-object-storage.appdomain.cloud/assets/logos/SN_web_lightmode.png\" width=\"200\" alt=\"Skills Network Logo\"  />\n    </a>\n</p>\n",
      "metadata": {}
    },
    {
      "cell_type": "markdown",
      "source": "# **Data Wrangling Lab**\n",
      "metadata": {}
    },
    {
      "cell_type": "markdown",
      "source": "Estimated time needed: **45 to 60** minutes\n",
      "metadata": {}
    },
    {
      "cell_type": "markdown",
      "source": "In this assignment you will be performing data wrangling.\n",
      "metadata": {}
    },
    {
      "cell_type": "markdown",
      "source": "## Objectives\n",
      "metadata": {}
    },
    {
      "cell_type": "markdown",
      "source": "In this lab you will perform the following:\n",
      "metadata": {}
    },
    {
      "cell_type": "markdown",
      "source": "-   Identify duplicate values in the dataset.\n\n-   Remove duplicate values from the dataset.\n\n-   Identify missing values in the dataset.\n\n-   Impute the missing values in the dataset.\n\n-   Normalize data in the dataset.\n",
      "metadata": {}
    },
    {
      "cell_type": "markdown",
      "source": "<hr>\n",
      "metadata": {}
    },
    {
      "cell_type": "markdown",
      "source": "## Hands on Lab\n",
      "metadata": {}
    },
    {
      "cell_type": "markdown",
      "source": "Import pandas module.\n",
      "metadata": {}
    },
    {
      "cell_type": "code",
      "source": "import pandas as pd",
      "metadata": {
        "trusted": true
      },
      "execution_count": 46,
      "outputs": []
    },
    {
      "cell_type": "markdown",
      "source": "Load the dataset into a dataframe.\n",
      "metadata": {}
    },
    {
      "cell_type": "code",
      "source": "from pyodide.http import pyfetch\nimport pandas as pd\n\nfilename = \"https://cf-courses-data.s3.us.cloud-object-storage.appdomain.cloud/IBM-DA0321EN-SkillsNetwork/LargeData/m1_survey_data.csv\"\nasync def download(url, filename):\n    response = await pyfetch(url)\n    if response.status == 200:\n        with open(filename, \"wb\") as f:\n            f.write(await response.bytes())\n\n\nawait download(filename, \"Survey_data.csv\")\ndf = pd.read_csv(\"Survey_data.csv\")",
      "metadata": {
        "trusted": true
      },
      "execution_count": 51,
      "outputs": []
    },
    {
      "cell_type": "markdown",
      "source": "## Finding duplicates\n",
      "metadata": {}
    },
    {
      "cell_type": "markdown",
      "source": "In this section you will identify duplicate values in the dataset.\n",
      "metadata": {}
    },
    {
      "cell_type": "markdown",
      "source": " Find how many duplicate rows exist in the dataframe.\n",
      "metadata": {}
    },
    {
      "cell_type": "code",
      "source": "# your code goes here\nduplicate_mask = df.duplicated()\nnum_duplicates = duplicate_mask.sum()\nduplicate_rows = df.loc[duplicate_mask]\nprint(f\"Number of duplicate rows: {num_duplicates}\")\nprint(\"Duplicate rows:\")\nprint(duplicate_rows)\n",
      "metadata": {
        "trusted": true
      },
      "execution_count": 39,
      "outputs": [
        {
          "name": "stdout",
          "text": "Number of duplicate rows: 154\nDuplicate rows:\n      Respondent                                         MainBranch Hobbyist  \\\n1168        2339                     I am a developer by profession      Yes   \n1169        2342                     I am a developer by profession      Yes   \n1170        2343                     I am a developer by profession      Yes   \n1171        2344                     I am a developer by profession      Yes   \n1172        2347                     I am a developer by profession      Yes   \n...          ...                                                ...      ...   \n2297        4674  I am not primarily a developer, but I write co...      Yes   \n2298        4675                     I am a developer by profession      Yes   \n2299        4676                     I am a developer by profession      Yes   \n2300        4677                     I am a developer by profession      Yes   \n2301        4679                     I am a developer by profession      Yes   \n\n                                            OpenSourcer  \\\n1168                         Once a month or more often   \n1169                                              Never   \n1170  Less than once a month but more than once per ...   \n1171                                              Never   \n1172                                              Never   \n...                                                 ...   \n2297                            Less than once per year   \n2298                                              Never   \n2299                                              Never   \n2300                         Once a month or more often   \n2301  Less than once a month but more than once per ...   \n\n                                             OpenSource          Employment  \\\n1168  OSS is, on average, of HIGHER quality than pro...  Employed full-time   \n1169  The quality of OSS and closed source software ...  Employed full-time   \n1170  OSS is, on average, of LOWER quality than prop...  Employed full-time   \n1171  The quality of OSS and closed source software ...  Employed full-time   \n1172  OSS is, on average, of HIGHER quality than pro...  Employed full-time   \n...                                                 ...                 ...   \n2297  The quality of OSS and closed source software ...  Employed full-time   \n2298  OSS is, on average, of HIGHER quality than pro...  Employed full-time   \n2299  OSS is, on average, of HIGHER quality than pro...  Employed full-time   \n2300  OSS is, on average, of HIGHER quality than pro...  Employed full-time   \n2301  The quality of OSS and closed source software ...  Employed full-time   \n\n             Country Student  \\\n1168   United States      No   \n1169  United Kingdom      No   \n1170          Canada      No   \n1171   United States      No   \n1172  United Kingdom      No   \n...              ...     ...   \n2297      Bangladesh      No   \n2298   United States      No   \n2299         Finland      No   \n2300  United Kingdom      No   \n2301   United States      No   \n\n                                                EdLevel  \\\n1168  Some college/university study without earning ...   \n1169  Some college/university study without earning ...   \n1170        Master’s degree (MA, MS, M.Eng., MBA, etc.)   \n1171           Bachelor’s degree (BA, BS, B.Eng., etc.)   \n1172        Master’s degree (MA, MS, M.Eng., MBA, etc.)   \n...                                                 ...   \n2297           Bachelor’s degree (BA, BS, B.Eng., etc.)   \n2298           Bachelor’s degree (BA, BS, B.Eng., etc.)   \n2299        Master’s degree (MA, MS, M.Eng., MBA, etc.)   \n2300           Bachelor’s degree (BA, BS, B.Eng., etc.)   \n2301        Master’s degree (MA, MS, M.Eng., MBA, etc.)   \n\n                                         UndergradMajor  ...  \\\n1168  Computer science, computer engineering, or sof...  ...   \n1169  Information systems, information technology, o...  ...   \n1170  Computer science, computer engineering, or sof...  ...   \n1171  Computer science, computer engineering, or sof...  ...   \n1172  Computer science, computer engineering, or sof...  ...   \n...                                                 ...  ...   \n2297                                                NaN  ...   \n2298  Information systems, information technology, o...  ...   \n2299  Another engineering discipline (ex. civil, ele...  ...   \n2300  A natural science (ex. biology, chemistry, phy...  ...   \n2301  Computer science, computer engineering, or sof...  ...   \n\n                                 WelcomeChange  \\\n1168   Just as welcome now as I felt last year   \n1169  Somewhat more welcome now than last year   \n1170  Somewhat more welcome now than last year   \n1171   Just as welcome now as I felt last year   \n1172   Just as welcome now as I felt last year   \n...                                        ...   \n2297  Somewhat less welcome now than last year   \n2298   Just as welcome now as I felt last year   \n2299  Somewhat less welcome now than last year   \n2300   Just as welcome now as I felt last year   \n2301   Just as welcome now as I felt last year   \n\n                                           SONewContent   Age Gender Trans  \\\n1168                                                NaN  24.0    Man    No   \n1169  Tech meetups or events in your area;Courses on...  24.0    Man    No   \n1170  Tech articles written by other developers;Indu...  27.0    Man    No   \n1171  Tech articles written by other developers;Indu...  24.0    Man    No   \n1172                                                NaN   NaN  Woman    No   \n...                                                 ...   ...    ...   ...   \n2297  Tech articles written by other developers;Indu...  31.0    Man    No   \n2298                Tech meetups or events in your area  27.0    Man    No   \n2299                                                NaN  36.0    Man    No   \n2300                                                NaN  40.0    Man    No   \n2301                                                NaN  27.0    Man    No   \n\n                                            Sexuality  \\\n1168                          Straight / Heterosexual   \n1169                          Straight / Heterosexual   \n1170                          Straight / Heterosexual   \n1171                          Straight / Heterosexual   \n1172                          Straight / Heterosexual   \n...                                               ...   \n2297  Bisexual;Gay or Lesbian;Straight / Heterosexual   \n2298                          Straight / Heterosexual   \n2299                          Straight / Heterosexual   \n2300                          Straight / Heterosexual   \n2301                                              NaN   \n\n                                              Ethnicity Dependents  \\\n1168                       White or of European descent         No   \n1169                       White or of European descent         No   \n1170  Black or of African descent;White or of Europe...         No   \n1171                       White or of European descent         No   \n1172                                           Biracial         No   \n...                                                 ...        ...   \n2297  Black or of African descent;Hispanic or Latino...        Yes   \n2298                       White or of European descent         No   \n2299                       White or of European descent        Yes   \n2300                       White or of European descent        Yes   \n2301                       White or of European descent         No   \n\n               SurveyLength                  SurveyEase  \n1168  Appropriate in length                        Easy  \n1169               Too long                        Easy  \n1170  Appropriate in length  Neither easy nor difficult  \n1171  Appropriate in length                        Easy  \n1172               Too long                        Easy  \n...                     ...                         ...  \n2297               Too long  Neither easy nor difficult  \n2298  Appropriate in length                        Easy  \n2299               Too long                        Easy  \n2300  Appropriate in length                        Easy  \n2301  Appropriate in length                        Easy  \n\n[154 rows x 85 columns]\n",
          "output_type": "stream"
        }
      ]
    },
    {
      "cell_type": "markdown",
      "source": "## Removing duplicates\n",
      "metadata": {}
    },
    {
      "cell_type": "markdown",
      "source": "Remove the duplicate rows from the dataframe.\n",
      "metadata": {}
    },
    {
      "cell_type": "code",
      "source": "# your code goes here\ndf_no_duplicates = df.drop_duplicates()\n\n# Optionally, you can reset the index of the resulting DataFrame\ndf_no_duplicates.reset_index(drop=True, inplace=True)\n\n\n\n\n\n\n\n",
      "metadata": {
        "trusted": true
      },
      "execution_count": 41,
      "outputs": []
    },
    {
      "cell_type": "markdown",
      "source": "Verify if duplicates were actually dropped.\n",
      "metadata": {}
    },
    {
      "cell_type": "code",
      "source": "\nprint(df_no_duplicates)\n\n\n\n\n\n",
      "metadata": {
        "trusted": true
      },
      "execution_count": 35,
      "outputs": [
        {
          "name": "stdout",
          "text": "       Respondent                      MainBranch Hobbyist  \\\n0               4  I am a developer by profession       No   \n1               9  I am a developer by profession      Yes   \n2              13  I am a developer by profession      Yes   \n3              16  I am a developer by profession      Yes   \n4              17  I am a developer by profession      Yes   \n...           ...                             ...      ...   \n11393       25136  I am a developer by profession      Yes   \n11394       25137  I am a developer by profession      Yes   \n11395       25138  I am a developer by profession      Yes   \n11396       25141  I am a developer by profession      Yes   \n11397       25142  I am a developer by profession      Yes   \n\n                                             OpenSourcer  \\\n0                                                  Never   \n1                             Once a month or more often   \n2      Less than once a month but more than once per ...   \n3                                                  Never   \n4      Less than once a month but more than once per ...   \n...                                                  ...   \n11393                                              Never   \n11394                                              Never   \n11395                            Less than once per year   \n11396  Less than once a month but more than once per ...   \n11397  Less than once a month but more than once per ...   \n\n                                              OpenSource          Employment  \\\n0      The quality of OSS and closed source software ...  Employed full-time   \n1      The quality of OSS and closed source software ...  Employed full-time   \n2      OSS is, on average, of HIGHER quality than pro...  Employed full-time   \n3      The quality of OSS and closed source software ...  Employed full-time   \n4      The quality of OSS and closed source software ...  Employed full-time   \n...                                                  ...                 ...   \n11393  OSS is, on average, of HIGHER quality than pro...  Employed full-time   \n11394  The quality of OSS and closed source software ...  Employed full-time   \n11395  The quality of OSS and closed source software ...  Employed full-time   \n11396  OSS is, on average, of LOWER quality than prop...  Employed full-time   \n11397  OSS is, on average, of HIGHER quality than pro...  Employed full-time   \n\n              Country Student  \\\n0       United States      No   \n1         New Zealand      No   \n2       United States      No   \n3      United Kingdom      No   \n4           Australia      No   \n...               ...     ...   \n11393   United States      No   \n11394          Poland      No   \n11395   United States      No   \n11396     Switzerland      No   \n11397  United Kingdom      No   \n\n                                                 EdLevel  \\\n0               Bachelor’s degree (BA, BS, B.Eng., etc.)   \n1      Some college/university study without earning ...   \n2            Master’s degree (MA, MS, M.Eng., MBA, etc.)   \n3            Master’s degree (MA, MS, M.Eng., MBA, etc.)   \n4               Bachelor’s degree (BA, BS, B.Eng., etc.)   \n...                                                  ...   \n11393        Master’s degree (MA, MS, M.Eng., MBA, etc.)   \n11394        Master’s degree (MA, MS, M.Eng., MBA, etc.)   \n11395        Master’s degree (MA, MS, M.Eng., MBA, etc.)   \n11396  Secondary school (e.g. American high school, G...   \n11397          Other doctoral degree (Ph.D, Ed.D., etc.)   \n\n                                          UndergradMajor  ...  \\\n0      Computer science, computer engineering, or sof...  ...   \n1      Computer science, computer engineering, or sof...  ...   \n2      Computer science, computer engineering, or sof...  ...   \n3                                                    NaN  ...   \n4      Computer science, computer engineering, or sof...  ...   \n...                                                  ...  ...   \n11393  Computer science, computer engineering, or sof...  ...   \n11394  Computer science, computer engineering, or sof...  ...   \n11395  Computer science, computer engineering, or sof...  ...   \n11396                                                NaN  ...   \n11397  A natural science (ex. biology, chemistry, phy...  ...   \n\n                                  WelcomeChange  \\\n0       Just as welcome now as I felt last year   \n1       Just as welcome now as I felt last year   \n2      Somewhat more welcome now than last year   \n3       Just as welcome now as I felt last year   \n4       Just as welcome now as I felt last year   \n...                                         ...   \n11393   Just as welcome now as I felt last year   \n11394     A lot more welcome now than last year   \n11395     A lot more welcome now than last year   \n11396  Somewhat less welcome now than last year   \n11397   Just as welcome now as I felt last year   \n\n                                            SONewContent   Age Gender Trans  \\\n0      Tech articles written by other developers;Indu...  22.0    Man    No   \n1                                                    NaN  23.0    Man    No   \n2      Tech articles written by other developers;Cour...  28.0    Man    No   \n3      Tech articles written by other developers;Indu...  26.0    Man    No   \n4      Tech articles written by other developers;Indu...  29.0    Man    No   \n...                                                  ...   ...    ...   ...   \n11393  Tech articles written by other developers;Cour...  36.0    Man    No   \n11394  Tech articles written by other developers;Tech...  25.0    Man    No   \n11395  Tech articles written by other developers;Indu...  34.0    Man    No   \n11396                                                NaN  25.0    Man    No   \n11397  Tech articles written by other developers;Tech...  30.0    Man    No   \n\n                     Sexuality                              Ethnicity  \\\n0      Straight / Heterosexual           White or of European descent   \n1                     Bisexual           White or of European descent   \n2      Straight / Heterosexual           White or of European descent   \n3      Straight / Heterosexual           White or of European descent   \n4      Straight / Heterosexual  Hispanic or Latino/Latina;Multiracial   \n...                        ...                                    ...   \n11393  Straight / Heterosexual           White or of European descent   \n11394  Straight / Heterosexual           White or of European descent   \n11395  Straight / Heterosexual           White or of European descent   \n11396  Straight / Heterosexual           White or of European descent   \n11397                 Bisexual           White or of European descent   \n\n      Dependents           SurveyLength                  SurveyEase  \n0             No  Appropriate in length                        Easy  \n1             No  Appropriate in length  Neither easy nor difficult  \n2            Yes  Appropriate in length                        Easy  \n3             No  Appropriate in length  Neither easy nor difficult  \n4             No  Appropriate in length                        Easy  \n...          ...                    ...                         ...  \n11393         No  Appropriate in length                   Difficult  \n11394         No  Appropriate in length  Neither easy nor difficult  \n11395        Yes               Too long                        Easy  \n11396         No  Appropriate in length                        Easy  \n11397         No  Appropriate in length                        Easy  \n\n[11398 rows x 85 columns]\n",
          "output_type": "stream"
        }
      ]
    },
    {
      "cell_type": "markdown",
      "source": "## Finding Missing values\n",
      "metadata": {}
    },
    {
      "cell_type": "markdown",
      "source": "Find the missing values for all columns.\n",
      "metadata": {}
    },
    {
      "cell_type": "markdown",
      "source": "Find out how many rows are missing in the column 'WorkLoc'\n",
      "metadata": {}
    },
    {
      "cell_type": "code",
      "source": "# your code goes here\nmissing_workloc = df['EdLevel'].isnull().sum()\n\n# Print the result\nprint(f\"Number of missing values in 'WorkLoc' column: {missing_workloc}\")",
      "metadata": {
        "trusted": true
      },
      "execution_count": 59,
      "outputs": [
        {
          "name": "stdout",
          "text": "Number of missing values in 'WorkLoc' column: 116\n",
          "output_type": "stream"
        }
      ]
    },
    {
      "cell_type": "code",
      "source": "# your code goes here\ndf.isnull()",
      "metadata": {
        "trusted": true
      },
      "execution_count": 42,
      "outputs": [
        {
          "execution_count": 42,
          "output_type": "execute_result",
          "data": {
            "text/plain": "       Respondent  MainBranch  Hobbyist  OpenSourcer  OpenSource  Employment  \\\n0           False       False     False        False       False       False   \n1           False       False     False        False       False       False   \n2           False       False     False        False       False       False   \n3           False       False     False        False       False       False   \n4           False       False     False        False       False       False   \n...           ...         ...       ...          ...         ...         ...   \n11547       False       False     False        False       False       False   \n11548       False       False     False        False       False       False   \n11549       False       False     False        False       False       False   \n11550       False       False     False        False       False       False   \n11551       False       False     False        False       False       False   \n\n       Country  Student  EdLevel  UndergradMajor  ...  WelcomeChange  \\\n0        False    False    False           False  ...          False   \n1        False    False    False           False  ...          False   \n2        False    False    False           False  ...          False   \n3        False    False    False            True  ...          False   \n4        False    False    False           False  ...          False   \n...        ...      ...      ...             ...  ...            ...   \n11547    False    False    False           False  ...          False   \n11548    False    False    False           False  ...          False   \n11549    False    False    False           False  ...          False   \n11550    False    False    False            True  ...          False   \n11551    False    False    False           False  ...          False   \n\n       SONewContent    Age  Gender  Trans  Sexuality  Ethnicity  Dependents  \\\n0             False  False   False  False      False      False       False   \n1              True  False   False  False      False      False       False   \n2             False  False   False  False      False      False       False   \n3             False  False   False  False      False      False       False   \n4             False  False   False  False      False      False       False   \n...             ...    ...     ...    ...        ...        ...         ...   \n11547         False  False   False  False      False      False       False   \n11548         False  False   False  False      False      False       False   \n11549         False  False   False  False      False      False       False   \n11550          True  False   False  False      False      False       False   \n11551         False  False   False  False      False      False       False   \n\n       SurveyLength  SurveyEase  \n0             False       False  \n1             False       False  \n2             False       False  \n3             False       False  \n4             False       False  \n...             ...         ...  \n11547         False       False  \n11548         False       False  \n11549         False       False  \n11550         False       False  \n11551         False       False  \n\n[11552 rows x 85 columns]",
            "text/html": "<div>\n<style scoped>\n    .dataframe tbody tr th:only-of-type {\n        vertical-align: middle;\n    }\n\n    .dataframe tbody tr th {\n        vertical-align: top;\n    }\n\n    .dataframe thead th {\n        text-align: right;\n    }\n</style>\n<table border=\"1\" class=\"dataframe\">\n  <thead>\n    <tr style=\"text-align: right;\">\n      <th></th>\n      <th>Respondent</th>\n      <th>MainBranch</th>\n      <th>Hobbyist</th>\n      <th>OpenSourcer</th>\n      <th>OpenSource</th>\n      <th>Employment</th>\n      <th>Country</th>\n      <th>Student</th>\n      <th>EdLevel</th>\n      <th>UndergradMajor</th>\n      <th>...</th>\n      <th>WelcomeChange</th>\n      <th>SONewContent</th>\n      <th>Age</th>\n      <th>Gender</th>\n      <th>Trans</th>\n      <th>Sexuality</th>\n      <th>Ethnicity</th>\n      <th>Dependents</th>\n      <th>SurveyLength</th>\n      <th>SurveyEase</th>\n    </tr>\n  </thead>\n  <tbody>\n    <tr>\n      <th>0</th>\n      <td>False</td>\n      <td>False</td>\n      <td>False</td>\n      <td>False</td>\n      <td>False</td>\n      <td>False</td>\n      <td>False</td>\n      <td>False</td>\n      <td>False</td>\n      <td>False</td>\n      <td>...</td>\n      <td>False</td>\n      <td>False</td>\n      <td>False</td>\n      <td>False</td>\n      <td>False</td>\n      <td>False</td>\n      <td>False</td>\n      <td>False</td>\n      <td>False</td>\n      <td>False</td>\n    </tr>\n    <tr>\n      <th>1</th>\n      <td>False</td>\n      <td>False</td>\n      <td>False</td>\n      <td>False</td>\n      <td>False</td>\n      <td>False</td>\n      <td>False</td>\n      <td>False</td>\n      <td>False</td>\n      <td>False</td>\n      <td>...</td>\n      <td>False</td>\n      <td>True</td>\n      <td>False</td>\n      <td>False</td>\n      <td>False</td>\n      <td>False</td>\n      <td>False</td>\n      <td>False</td>\n      <td>False</td>\n      <td>False</td>\n    </tr>\n    <tr>\n      <th>2</th>\n      <td>False</td>\n      <td>False</td>\n      <td>False</td>\n      <td>False</td>\n      <td>False</td>\n      <td>False</td>\n      <td>False</td>\n      <td>False</td>\n      <td>False</td>\n      <td>False</td>\n      <td>...</td>\n      <td>False</td>\n      <td>False</td>\n      <td>False</td>\n      <td>False</td>\n      <td>False</td>\n      <td>False</td>\n      <td>False</td>\n      <td>False</td>\n      <td>False</td>\n      <td>False</td>\n    </tr>\n    <tr>\n      <th>3</th>\n      <td>False</td>\n      <td>False</td>\n      <td>False</td>\n      <td>False</td>\n      <td>False</td>\n      <td>False</td>\n      <td>False</td>\n      <td>False</td>\n      <td>False</td>\n      <td>True</td>\n      <td>...</td>\n      <td>False</td>\n      <td>False</td>\n      <td>False</td>\n      <td>False</td>\n      <td>False</td>\n      <td>False</td>\n      <td>False</td>\n      <td>False</td>\n      <td>False</td>\n      <td>False</td>\n    </tr>\n    <tr>\n      <th>4</th>\n      <td>False</td>\n      <td>False</td>\n      <td>False</td>\n      <td>False</td>\n      <td>False</td>\n      <td>False</td>\n      <td>False</td>\n      <td>False</td>\n      <td>False</td>\n      <td>False</td>\n      <td>...</td>\n      <td>False</td>\n      <td>False</td>\n      <td>False</td>\n      <td>False</td>\n      <td>False</td>\n      <td>False</td>\n      <td>False</td>\n      <td>False</td>\n      <td>False</td>\n      <td>False</td>\n    </tr>\n    <tr>\n      <th>...</th>\n      <td>...</td>\n      <td>...</td>\n      <td>...</td>\n      <td>...</td>\n      <td>...</td>\n      <td>...</td>\n      <td>...</td>\n      <td>...</td>\n      <td>...</td>\n      <td>...</td>\n      <td>...</td>\n      <td>...</td>\n      <td>...</td>\n      <td>...</td>\n      <td>...</td>\n      <td>...</td>\n      <td>...</td>\n      <td>...</td>\n      <td>...</td>\n      <td>...</td>\n      <td>...</td>\n    </tr>\n    <tr>\n      <th>11547</th>\n      <td>False</td>\n      <td>False</td>\n      <td>False</td>\n      <td>False</td>\n      <td>False</td>\n      <td>False</td>\n      <td>False</td>\n      <td>False</td>\n      <td>False</td>\n      <td>False</td>\n      <td>...</td>\n      <td>False</td>\n      <td>False</td>\n      <td>False</td>\n      <td>False</td>\n      <td>False</td>\n      <td>False</td>\n      <td>False</td>\n      <td>False</td>\n      <td>False</td>\n      <td>False</td>\n    </tr>\n    <tr>\n      <th>11548</th>\n      <td>False</td>\n      <td>False</td>\n      <td>False</td>\n      <td>False</td>\n      <td>False</td>\n      <td>False</td>\n      <td>False</td>\n      <td>False</td>\n      <td>False</td>\n      <td>False</td>\n      <td>...</td>\n      <td>False</td>\n      <td>False</td>\n      <td>False</td>\n      <td>False</td>\n      <td>False</td>\n      <td>False</td>\n      <td>False</td>\n      <td>False</td>\n      <td>False</td>\n      <td>False</td>\n    </tr>\n    <tr>\n      <th>11549</th>\n      <td>False</td>\n      <td>False</td>\n      <td>False</td>\n      <td>False</td>\n      <td>False</td>\n      <td>False</td>\n      <td>False</td>\n      <td>False</td>\n      <td>False</td>\n      <td>False</td>\n      <td>...</td>\n      <td>False</td>\n      <td>False</td>\n      <td>False</td>\n      <td>False</td>\n      <td>False</td>\n      <td>False</td>\n      <td>False</td>\n      <td>False</td>\n      <td>False</td>\n      <td>False</td>\n    </tr>\n    <tr>\n      <th>11550</th>\n      <td>False</td>\n      <td>False</td>\n      <td>False</td>\n      <td>False</td>\n      <td>False</td>\n      <td>False</td>\n      <td>False</td>\n      <td>False</td>\n      <td>False</td>\n      <td>True</td>\n      <td>...</td>\n      <td>False</td>\n      <td>True</td>\n      <td>False</td>\n      <td>False</td>\n      <td>False</td>\n      <td>False</td>\n      <td>False</td>\n      <td>False</td>\n      <td>False</td>\n      <td>False</td>\n    </tr>\n    <tr>\n      <th>11551</th>\n      <td>False</td>\n      <td>False</td>\n      <td>False</td>\n      <td>False</td>\n      <td>False</td>\n      <td>False</td>\n      <td>False</td>\n      <td>False</td>\n      <td>False</td>\n      <td>False</td>\n      <td>...</td>\n      <td>False</td>\n      <td>False</td>\n      <td>False</td>\n      <td>False</td>\n      <td>False</td>\n      <td>False</td>\n      <td>False</td>\n      <td>False</td>\n      <td>False</td>\n      <td>False</td>\n    </tr>\n  </tbody>\n</table>\n<p>11552 rows × 85 columns</p>\n</div>"
          },
          "metadata": {}
        }
      ]
    },
    {
      "cell_type": "code",
      "source": "# your code goes here\ndf.isnull()",
      "metadata": {
        "trusted": true
      },
      "execution_count": 42,
      "outputs": [
        {
          "execution_count": 42,
          "output_type": "execute_result",
          "data": {
            "text/plain": "       Respondent  MainBranch  Hobbyist  OpenSourcer  OpenSource  Employment  \\\n0           False       False     False        False       False       False   \n1           False       False     False        False       False       False   \n2           False       False     False        False       False       False   \n3           False       False     False        False       False       False   \n4           False       False     False        False       False       False   \n...           ...         ...       ...          ...         ...         ...   \n11547       False       False     False        False       False       False   \n11548       False       False     False        False       False       False   \n11549       False       False     False        False       False       False   \n11550       False       False     False        False       False       False   \n11551       False       False     False        False       False       False   \n\n       Country  Student  EdLevel  UndergradMajor  ...  WelcomeChange  \\\n0        False    False    False           False  ...          False   \n1        False    False    False           False  ...          False   \n2        False    False    False           False  ...          False   \n3        False    False    False            True  ...          False   \n4        False    False    False           False  ...          False   \n...        ...      ...      ...             ...  ...            ...   \n11547    False    False    False           False  ...          False   \n11548    False    False    False           False  ...          False   \n11549    False    False    False           False  ...          False   \n11550    False    False    False            True  ...          False   \n11551    False    False    False           False  ...          False   \n\n       SONewContent    Age  Gender  Trans  Sexuality  Ethnicity  Dependents  \\\n0             False  False   False  False      False      False       False   \n1              True  False   False  False      False      False       False   \n2             False  False   False  False      False      False       False   \n3             False  False   False  False      False      False       False   \n4             False  False   False  False      False      False       False   \n...             ...    ...     ...    ...        ...        ...         ...   \n11547         False  False   False  False      False      False       False   \n11548         False  False   False  False      False      False       False   \n11549         False  False   False  False      False      False       False   \n11550          True  False   False  False      False      False       False   \n11551         False  False   False  False      False      False       False   \n\n       SurveyLength  SurveyEase  \n0             False       False  \n1             False       False  \n2             False       False  \n3             False       False  \n4             False       False  \n...             ...         ...  \n11547         False       False  \n11548         False       False  \n11549         False       False  \n11550         False       False  \n11551         False       False  \n\n[11552 rows x 85 columns]",
            "text/html": "<div>\n<style scoped>\n    .dataframe tbody tr th:only-of-type {\n        vertical-align: middle;\n    }\n\n    .dataframe tbody tr th {\n        vertical-align: top;\n    }\n\n    .dataframe thead th {\n        text-align: right;\n    }\n</style>\n<table border=\"1\" class=\"dataframe\">\n  <thead>\n    <tr style=\"text-align: right;\">\n      <th></th>\n      <th>Respondent</th>\n      <th>MainBranch</th>\n      <th>Hobbyist</th>\n      <th>OpenSourcer</th>\n      <th>OpenSource</th>\n      <th>Employment</th>\n      <th>Country</th>\n      <th>Student</th>\n      <th>EdLevel</th>\n      <th>UndergradMajor</th>\n      <th>...</th>\n      <th>WelcomeChange</th>\n      <th>SONewContent</th>\n      <th>Age</th>\n      <th>Gender</th>\n      <th>Trans</th>\n      <th>Sexuality</th>\n      <th>Ethnicity</th>\n      <th>Dependents</th>\n      <th>SurveyLength</th>\n      <th>SurveyEase</th>\n    </tr>\n  </thead>\n  <tbody>\n    <tr>\n      <th>0</th>\n      <td>False</td>\n      <td>False</td>\n      <td>False</td>\n      <td>False</td>\n      <td>False</td>\n      <td>False</td>\n      <td>False</td>\n      <td>False</td>\n      <td>False</td>\n      <td>False</td>\n      <td>...</td>\n      <td>False</td>\n      <td>False</td>\n      <td>False</td>\n      <td>False</td>\n      <td>False</td>\n      <td>False</td>\n      <td>False</td>\n      <td>False</td>\n      <td>False</td>\n      <td>False</td>\n    </tr>\n    <tr>\n      <th>1</th>\n      <td>False</td>\n      <td>False</td>\n      <td>False</td>\n      <td>False</td>\n      <td>False</td>\n      <td>False</td>\n      <td>False</td>\n      <td>False</td>\n      <td>False</td>\n      <td>False</td>\n      <td>...</td>\n      <td>False</td>\n      <td>True</td>\n      <td>False</td>\n      <td>False</td>\n      <td>False</td>\n      <td>False</td>\n      <td>False</td>\n      <td>False</td>\n      <td>False</td>\n      <td>False</td>\n    </tr>\n    <tr>\n      <th>2</th>\n      <td>False</td>\n      <td>False</td>\n      <td>False</td>\n      <td>False</td>\n      <td>False</td>\n      <td>False</td>\n      <td>False</td>\n      <td>False</td>\n      <td>False</td>\n      <td>False</td>\n      <td>...</td>\n      <td>False</td>\n      <td>False</td>\n      <td>False</td>\n      <td>False</td>\n      <td>False</td>\n      <td>False</td>\n      <td>False</td>\n      <td>False</td>\n      <td>False</td>\n      <td>False</td>\n    </tr>\n    <tr>\n      <th>3</th>\n      <td>False</td>\n      <td>False</td>\n      <td>False</td>\n      <td>False</td>\n      <td>False</td>\n      <td>False</td>\n      <td>False</td>\n      <td>False</td>\n      <td>False</td>\n      <td>True</td>\n      <td>...</td>\n      <td>False</td>\n      <td>False</td>\n      <td>False</td>\n      <td>False</td>\n      <td>False</td>\n      <td>False</td>\n      <td>False</td>\n      <td>False</td>\n      <td>False</td>\n      <td>False</td>\n    </tr>\n    <tr>\n      <th>4</th>\n      <td>False</td>\n      <td>False</td>\n      <td>False</td>\n      <td>False</td>\n      <td>False</td>\n      <td>False</td>\n      <td>False</td>\n      <td>False</td>\n      <td>False</td>\n      <td>False</td>\n      <td>...</td>\n      <td>False</td>\n      <td>False</td>\n      <td>False</td>\n      <td>False</td>\n      <td>False</td>\n      <td>False</td>\n      <td>False</td>\n      <td>False</td>\n      <td>False</td>\n      <td>False</td>\n    </tr>\n    <tr>\n      <th>...</th>\n      <td>...</td>\n      <td>...</td>\n      <td>...</td>\n      <td>...</td>\n      <td>...</td>\n      <td>...</td>\n      <td>...</td>\n      <td>...</td>\n      <td>...</td>\n      <td>...</td>\n      <td>...</td>\n      <td>...</td>\n      <td>...</td>\n      <td>...</td>\n      <td>...</td>\n      <td>...</td>\n      <td>...</td>\n      <td>...</td>\n      <td>...</td>\n      <td>...</td>\n      <td>...</td>\n    </tr>\n    <tr>\n      <th>11547</th>\n      <td>False</td>\n      <td>False</td>\n      <td>False</td>\n      <td>False</td>\n      <td>False</td>\n      <td>False</td>\n      <td>False</td>\n      <td>False</td>\n      <td>False</td>\n      <td>False</td>\n      <td>...</td>\n      <td>False</td>\n      <td>False</td>\n      <td>False</td>\n      <td>False</td>\n      <td>False</td>\n      <td>False</td>\n      <td>False</td>\n      <td>False</td>\n      <td>False</td>\n      <td>False</td>\n    </tr>\n    <tr>\n      <th>11548</th>\n      <td>False</td>\n      <td>False</td>\n      <td>False</td>\n      <td>False</td>\n      <td>False</td>\n      <td>False</td>\n      <td>False</td>\n      <td>False</td>\n      <td>False</td>\n      <td>False</td>\n      <td>...</td>\n      <td>False</td>\n      <td>False</td>\n      <td>False</td>\n      <td>False</td>\n      <td>False</td>\n      <td>False</td>\n      <td>False</td>\n      <td>False</td>\n      <td>False</td>\n      <td>False</td>\n    </tr>\n    <tr>\n      <th>11549</th>\n      <td>False</td>\n      <td>False</td>\n      <td>False</td>\n      <td>False</td>\n      <td>False</td>\n      <td>False</td>\n      <td>False</td>\n      <td>False</td>\n      <td>False</td>\n      <td>False</td>\n      <td>...</td>\n      <td>False</td>\n      <td>False</td>\n      <td>False</td>\n      <td>False</td>\n      <td>False</td>\n      <td>False</td>\n      <td>False</td>\n      <td>False</td>\n      <td>False</td>\n      <td>False</td>\n    </tr>\n    <tr>\n      <th>11550</th>\n      <td>False</td>\n      <td>False</td>\n      <td>False</td>\n      <td>False</td>\n      <td>False</td>\n      <td>False</td>\n      <td>False</td>\n      <td>False</td>\n      <td>False</td>\n      <td>True</td>\n      <td>...</td>\n      <td>False</td>\n      <td>True</td>\n      <td>False</td>\n      <td>False</td>\n      <td>False</td>\n      <td>False</td>\n      <td>False</td>\n      <td>False</td>\n      <td>False</td>\n      <td>False</td>\n    </tr>\n    <tr>\n      <th>11551</th>\n      <td>False</td>\n      <td>False</td>\n      <td>False</td>\n      <td>False</td>\n      <td>False</td>\n      <td>False</td>\n      <td>False</td>\n      <td>False</td>\n      <td>False</td>\n      <td>False</td>\n      <td>...</td>\n      <td>False</td>\n      <td>False</td>\n      <td>False</td>\n      <td>False</td>\n      <td>False</td>\n      <td>False</td>\n      <td>False</td>\n      <td>False</td>\n      <td>False</td>\n      <td>False</td>\n    </tr>\n  </tbody>\n</table>\n<p>11552 rows × 85 columns</p>\n</div>"
          },
          "metadata": {}
        }
      ]
    },
    {
      "cell_type": "markdown",
      "source": "## Imputing missing values\n",
      "metadata": {}
    },
    {
      "cell_type": "markdown",
      "source": "Find the  value counts for the column WorkLoc.\n",
      "metadata": {}
    },
    {
      "cell_type": "code",
      "source": "# your code goes here\nworkloc_counts = df['UndergradMajor'].value_counts()\nprint(workloc_counts)",
      "metadata": {
        "trusted": true
      },
      "execution_count": 64,
      "outputs": [
        {
          "name": "stdout",
          "text": "Computer science, computer engineering, or software engineering          7053\nInformation systems, information technology, or system administration     806\nAnother engineering discipline (ex. civil, electrical, mechanical)        769\nWeb development or web design                                             417\nA natural science (ex. biology, chemistry, physics)                       409\nMathematics or statistics                                                 375\nA business discipline (ex. accounting, finance, marketing)                247\nA social science (ex. anthropology, psychology, political science)        212\nA humanities discipline (ex. literature, history, philosophy)             209\nFine arts or performing arts (ex. graphic design, music, studio art)      165\nI never declared a major                                                  126\nA health science (ex. nursing, pharmacy, radiology)                        24\nName: UndergradMajor, dtype: int64\n",
          "output_type": "stream"
        }
      ]
    },
    {
      "cell_type": "markdown",
      "source": "Identify the value that is most frequent (majority) in the WorkLoc column.\n",
      "metadata": {}
    },
    {
      "cell_type": "code",
      "source": "#make a note of the majority value here, for future reference\nmost_frequent_workloc = workloc_counts.idxmax()\n\n# Print the most frequent value\nprint(\"The most frequent value in 'WorkLoc' column is:\", most_frequent_workloc)",
      "metadata": {
        "trusted": true
      },
      "execution_count": 54,
      "outputs": [
        {
          "name": "stdout",
          "text": "The most frequent value in 'WorkLoc' column is: Office\n",
          "output_type": "stream"
        }
      ]
    },
    {
      "cell_type": "markdown",
      "source": "Impute (replace) all the empty rows in the column WorkLoc with the value that you have identified as majority.\n",
      "metadata": {}
    },
    {
      "cell_type": "code",
      "source": "# your code goes here\ndf['WorkLoc'].fillna(most_frequent_workloc, inplace=True)",
      "metadata": {
        "trusted": true
      },
      "execution_count": 56,
      "outputs": []
    },
    {
      "cell_type": "markdown",
      "source": "After imputation there should ideally not be any empty rows in the WorkLoc column.\n",
      "metadata": {}
    },
    {
      "cell_type": "markdown",
      "source": "Verify if imputing was successful.\n",
      "metadata": {}
    },
    {
      "cell_type": "code",
      "source": "# your code goes here\nworkloc_counts_after_impute = df['WorkLoc'].value_counts()\n\n# Check if there are any missing values in 'WorkLoc' column after imputing\nmissing_values_after_impute = df['WorkLoc'].isnull().sum()\n\n# Print the value counts and missing value count\nprint(\"Value counts of 'WorkLoc' after imputing:\")\nprint(workloc_counts_after_impute)\nprint(\"\\nNumber of missing values in 'WorkLoc' after imputing:\", missing_values_after_impute)\n",
      "metadata": {
        "trusted": true
      },
      "execution_count": 57,
      "outputs": [
        {
          "name": "stdout",
          "text": "Value counts of 'WorkLoc' after imputing:\nOffice                                            6937\nHome                                              3638\nOther place, such as a coworking space or cafe     977\nName: WorkLoc, dtype: int64\n\nNumber of missing values in 'WorkLoc' after imputing: 0\n",
          "output_type": "stream"
        }
      ]
    },
    {
      "cell_type": "markdown",
      "source": "## Normalizing data\n",
      "metadata": {}
    },
    {
      "cell_type": "markdown",
      "source": "There are two columns in the dataset that talk about compensation.\n\nOne is \"CompFreq\". This column shows how often a developer is paid (Yearly, Monthly, Weekly).\n\nThe other is \"CompTotal\". This column talks about how much the developer is paid per Year, Month, or Week depending upon his/her \"CompFreq\". \n\nThis makes it difficult to compare the total compensation of the developers.\n\nIn this section you will create a new column called 'NormalizedAnnualCompensation' which contains the 'Annual Compensation' irrespective of the 'CompFreq'.\n\nOnce this column is ready, it makes comparison of salaries easy.\n",
      "metadata": {}
    },
    {
      "cell_type": "markdown",
      "source": "List out the various categories in the column 'CompFreq'\n",
      "metadata": {}
    },
    {
      "cell_type": "markdown",
      "source": "<hr>\n",
      "metadata": {}
    },
    {
      "cell_type": "code",
      "source": "# your code goes here\ndef normalize_compensation(row):\n    comp_freq = row['CompFreq']\n    comp_total = row['CompTotal']\n    \n    if comp_freq == 'Yearly':\n        return comp_total\n    elif comp_freq == 'Monthly':\n        return comp_total * 12\n    elif comp_freq == 'Weekly':\n        return comp_total * 52\n    else:\n        return None  # Handle cases with missing or unexpected values\n\n",
      "metadata": {
        "trusted": true
      },
      "execution_count": 75,
      "outputs": []
    },
    {
      "cell_type": "markdown",
      "source": "Create a new column named 'NormalizedAnnualCompensation'. Use the hint given below if needed.\n",
      "metadata": {}
    },
    {
      "cell_type": "markdown",
      "source": "Double click to see the **Hint**.\n\n<!--\n\nUse the below logic to arrive at the values for the column NormalizedAnnualCompensation.\n\nIf the CompFreq is Yearly then use the exising value in CompTotal\nIf the CompFreq is Monthly then multiply the value in CompTotal with 12 (months in an year)\nIf the CompFreq is Weekly then multiply the value in CompTotal with 52 (weeks in an year)\n\n-->\n",
      "metadata": {}
    },
    {
      "cell_type": "code",
      "source": "# Create the 'NormalizedAnnualCompensation' column by applying the function to each row\ndf['NormalizedAnnualCompensation'] = df.apply(normalize_compensation, axis=1)\n# Print the DataFrame with the new 'NormalizedAnnualCompensation' column\nprint(df[['CompFreq', 'CompTotal', 'NormalizedAnnualCompensation']])\n\nmedian_compensation = df['NormalizedAnnualCompensation'].median()\n\n# Print the median value\nprint(f\"Median Normalized Annual Compensation: {median_compensation}\")",
      "metadata": {
        "trusted": true
      },
      "execution_count": 74,
      "outputs": [
        {
          "name": "stdout",
          "text": "      CompFreq  CompTotal  NormalizedAnnualCompensation\n0       Yearly    61000.0                       61000.0\n1       Yearly   138000.0                      138000.0\n2       Yearly    90000.0                       90000.0\n3      Monthly    29000.0                      348000.0\n4       Yearly    90000.0                       90000.0\n...        ...        ...                           ...\n11547   Yearly   130000.0                      130000.0\n11548   Yearly    74400.0                       74400.0\n11549   Yearly   105000.0                      105000.0\n11550   Yearly    80000.0                       80000.0\n11551      NaN        NaN                           NaN\n\n[11552 rows x 3 columns]\nMedian Normalized Annual Compensation: 100000.0\n",
          "output_type": "stream"
        }
      ]
    },
    {
      "cell_type": "markdown",
      "source": "## Authors\n",
      "metadata": {}
    },
    {
      "cell_type": "markdown",
      "source": "Ramesh Sannareddy\n",
      "metadata": {}
    },
    {
      "cell_type": "markdown",
      "source": "### Other Contributors\n",
      "metadata": {}
    },
    {
      "cell_type": "markdown",
      "source": "Rav Ahuja\n",
      "metadata": {}
    },
    {
      "cell_type": "markdown",
      "source": "## Change Log\n",
      "metadata": {}
    },
    {
      "cell_type": "markdown",
      "source": "| Date (YYYY-MM-DD) | Version | Changed By        | Change Description                 |\n| ----------------- | ------- | ----------------- | ---------------------------------- |\n| 2020-10-17        | 0.1     | Ramesh Sannareddy | Created initial version of the lab |\n",
      "metadata": {}
    },
    {
      "cell_type": "markdown",
      "source": " Copyright © 2020 IBM Corporation. This notebook and its source code are released under the terms of the [MIT License](https://cognitiveclass.ai/mit-license?utm_medium=Exinfluencer&utm_source=Exinfluencer&utm_content=000026UJ&utm_term=10006555&utm_id=NA-SkillsNetwork-Channel-SkillsNetworkCoursesIBMDA0321ENSkillsNetwork928-2022-01-01&cm_mmc=Email_Newsletter-_-Developer_Ed%2BTech-_-WW_WW-_-SkillsNetwork-Courses-IBM-DA0321EN-SkillsNetwork-21426264&cm_mmca1=000026UJ&cm_mmca2=10006555&cm_mmca3=M12345678&cvosrc=email.Newsletter.M12345678&cvo_campaign=000026UJ).\n",
      "metadata": {}
    }
  ]
}